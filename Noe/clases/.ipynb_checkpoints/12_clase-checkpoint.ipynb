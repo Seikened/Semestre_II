{
 "cells": [
  {
   "cell_type": "markdown",
   "metadata": {},
   "source": [
    "## Fórmulas de las diferencias finitas"
   ]
  },
  {
   "cell_type": "markdown",
   "metadata": {},
   "source": [
    "Por definición, la derivadad de $f(x)$ es un valor $x$ es \n",
    "\\begin{equation} f'(x) = \\lim_{h \\to 0} \\frac{f(x+h) - f(x)}{h}, \\end{equation} \n",
    "simpre y cuando el límite exista. Esto conduce a una fórmula útil para aproximar la derivada en $x$.  El teorema  de Taylor dice que si $f$ es dos veces continuamente diferenciable, entonces: $$f(x+h) = f(x) + hf'(x) + \\frac{h^2}{2}f''(c),$$ donde $c$ se encuentra $x$ y $x+h$. De la ecuación anterior se tiene la siguiente fórmula:"
   ]
  },
  {
   "cell_type": "markdown",
   "metadata": {},
   "source": [
    "### Fórmula de la diferencia hacia adelante de dos puntos\n",
    "$$f'(x) = \\frac{ f(x+h) - f(x) }{h} - \\frac{h^2}{2}f''(c),$$ donde $c$ se encuentra $x$ y $x+h$. Las aproximaciones numéricas que se pueden hacer con (para $h>0$):\n",
    "\\begin{equation}\n",
    "   \\boxed{ f'(x) \\approx \\frac{ f(x+h) - f(x) }{h} }\n",
    "\\end{equation}"
   ]
  },
  {
   "cell_type": "markdown",
   "metadata": {},
   "source": [
    "### Fórmula de la diferencia hacia atrás de dos puntos\n",
    "\n",
    "\\begin{equation}\n",
    "   \\boxed{ f'(x) \\approx \\frac{ f(x) - f(x-h)}{h} }\n",
    "\\end{equation}"
   ]
  },
  {
   "cell_type": "markdown",
   "metadata": {},
   "source": [
    "### Fórmula de la diferencia centrada de tres puntos\n",
    "\n",
    "\\begin{equation}\n",
    "   \\boxed{ f'(x) \\approx \\frac{ f(x+h) - f(x-h)}{2h} }\n",
    "\\end{equation}"
   ]
  },
  {
   "cell_type": "markdown",
   "metadata": {},
   "source": [
    "### Fórmula de la diferencia centrada de tres puntos para la segunda derivada\n",
    "\n",
    "\\begin{equation}\n",
    "   \\boxed{ f''(x) \\approx \\frac{ f(x+h) - 2f(x) + f(x-h)}{h^2} } \n",
    "\\end{equation}"
   ]
  },
  {
   "cell_type": "markdown",
   "metadata": {},
   "source": [
    "## Convergencia\n",
    "Las aproximaciones de dos y tres puntos convergen a la derivada a medida que $h \\to 0$, aunque a velocidades diferentes. Las fórmulas de las derivadas empiezan a fallar al restar números casi iguales, pero no puede evitarse, puesto que la búsqueda de derivadas es un proceso inherentemente inestable. Para valores muy pequeños de $h$, el error de redondeo afecta el cálculo.\n",
    "\n",
    "## Tip\n",
    "La fórmula de la diferencia centrada de tres puntos mejorará la precisión a medida que $h$ se reduzca, hasta que $h$ tenga aproximadamente el tamaño de la raíz cúbica del épsilon de la máquina ($h \\approx \\epsilon_{máq}^{\\frac{1}{3}}$). Cuando $h$ cae por debajo de ese tamaño, el error puede empezar a aumentar de nuevo.\n"
   ]
  },
  {
   "cell_type": "markdown",
   "metadata": {},
   "source": [
    "### Para encontrar el epsilon de la máquina se puede usar la siguiente función."
   ]
  },
  {
   "cell_type": "code",
   "execution_count": null,
   "metadata": {},
   "outputs": [],
   "source": [
    "import numpy as np\n",
    "\n",
    "def machineEpsilon(func=float):\n",
    "    machine_epsilon = func(1)\n",
    "    while func(1)+func(machine_epsilon) != func(1):\n",
    "        machine_epsilon_last = machine_epsilon\n",
    "        machine_epsilon = func(machine_epsilon) / func(2)\n",
    "    return machine_epsilon_last\n",
    "\n",
    "if __name__ == '__main__':\n",
    "    epsilon = machineEpsilon(float)\n",
    "    print(epsilon)\n",
    "    epsilon = machineEpsilon(np.float64)\n",
    "    print(epsilon)\n",
    "    epsilon = machineEpsilon(np.float32)\n",
    "    print(epsilon)\n",
    "    \n",
    "    h = epsilon**(1/3)\n"
   ]
  },
  {
   "cell_type": "markdown",
   "metadata": {},
   "source": [
    "## Otra forma para encontrar el epsilon de la máquina mediante Numpy"
   ]
  },
  {
   "cell_type": "code",
   "execution_count": null,
   "metadata": {},
   "outputs": [],
   "source": [
    "import numpy as np\n",
    "\n",
    "epsilon = (np.finfo(float).eps)**(1/3)\n",
    "print(epsilon)\n",
    "print(np.finfo(np.float64).eps)\n",
    "print(np.finfo(np.float32).eps)"
   ]
  },
  {
   "cell_type": "markdown",
   "metadata": {},
   "source": [
    "**Ejemplo. Calcule la derivada de $sin(x)$ en el intervalo de $\\left[0, 2\\pi \\right]$. Calcula usando los tres métodos para estimar derivadas numéricas. Comparar los resultados mediante las gráficas de las derivadas numéricas. Pruebe con diferentes valores de h. Realizar la animación de las gráficas de las derivadas numéricas.**"
   ]
  },
  {
   "cell_type": "code",
   "execution_count": null,
   "metadata": {},
   "outputs": [],
   "source": [
    "import numpy as np\n",
    "import matplotlib.pyplot as plt\n",
    "%matplotlib auto\n",
    "\n",
    "def CalcuarPrimeraDerivadaAdelante(x,f,h=0.005):\n",
    "    pass\n",
    "\n",
    "def CalcuarPrimeraDerivadaAtras(x,f,h=0.005):\n",
    "    pass   \n",
    "\n",
    "def CalcuarPrimeraDerivadaCentrada(x,f,h=0.005):\n",
    "    pass  \n",
    "\n",
    "def CalcuarSegundaDerivadaCentrada(x,f,h=0.005):\n",
    "    pass\n",
    "\n",
    "if __name__ == '__main__':\n",
    "    #Aquí van las entradas:\n",
    "    # Definiendo el tamaño de paso\n",
    "    #h = (np.finfo(np.float32).eps)**(1/3)\n",
    "    h = 0.1\n",
    "    # Crear el conjunto de datos del dominio\n",
    "    X = np.arange(0,2*np.pi,h)\n",
    "    \n",
    "    #Definir la función a derivar\n",
    "    f = lambda x : \n",
    "    \n",
    "    #Calcular las imágenes de f bajo el dominio X.\n",
    "    Y = f(X)\n",
    "    \n",
    "    #Calcular la derivada hacia adelante de Y.\n",
    "    Y_dot_adelante = CalcuarPrimeraDerivadaAdelante(X,f,h)\n",
    "    \n",
    "     #Calcular la derivada hacia atras de Y.\n",
    "    Y_dot_atras    = \n",
    "    \n",
    "    #Calcular la derivada centrada de Y.\n",
    "    Y_dot_centrada = \n",
    "    \n",
    "    #Calcular la solución exacta.\n",
    "    Y_dot = np.cos(X)\n",
    "    \n",
    "    #Graficar la solución.\n",
    "    fig = plt.figure()\n",
    "    ax  = fig.add_subplot(111)\n",
    "    ax.plot(X,Y,label='f(x)')\n",
    "    ax.plot(X,Y_,'r--',label='Derivada hacia adelante')\n",
    "    ax.plot(X,Y_,'b--',label='Derivada hacia atras')\n",
    "    ax.plot(X,Y_,'m--',label='Derivada centrada')\n",
    "    ax.plot(X,Y_dot,label='Derivada exacta')\n",
    "    ax.legend()\n",
    "    ax.grid()\n",
    "    plt.show()"
   ]
  },
  {
   "cell_type": "code",
   "execution_count": null,
   "metadata": {},
   "outputs": [],
   "source": [
    "import numpy as np\n",
    "import matplotlib.pyplot as plt\n",
    "import matplotlib.animation as animation\n",
    "%matplotlib auto\n",
    "\n",
    "def CalcuarPrimeraDerivadaAdelante(x,f,h=0.005):\n",
    "    pass\n",
    "\n",
    "def CalcuarPrimeraDerivadaAtras(x,f,h=0.005):\n",
    "    pass   \n",
    "\n",
    "def CalcuarPrimeraDerivadaCentrada(x,f,h=0.005):\n",
    "    pass  \n",
    "\n",
    "def CalcuarSegundaDerivadaCentrada(x,f,h=0.005):\n",
    "    pass\n",
    "\n",
    "def actualizar(i,X,Y_dot_adelante,Y_dot_atras,Y_dot_centrada,Y_dot):\n",
    "    ax.clear()\n",
    "    \n",
    "    ax.legend()\n",
    "    ax.grid()\n",
    "    \n",
    "    \n",
    "if __name__ == '__main__':\n",
    "    #Aquí van las entradas:\n",
    "    # Definiendo el tamaño de paso\n",
    "    #h = (np.finfo(np.float32).eps)**(1/3)\n",
    "    h = 0.1\n",
    "    # Crear el conjunto de datos del dominio\n",
    "    X = np.arange(0,2*np.pi,h)\n",
    "    \n",
    "    #Definir la función a derivar\n",
    "    f = lambda x : \n",
    "    \n",
    "    #Calcular las imágenes de f bajo el dominio X.\n",
    "    Y = f(X)\n",
    "    \n",
    "    #Calcular la derivada hacia adelante de Y.\n",
    "    Y_dot_adelante = CalcuarPrimeraDerivadaAdelante(X,f,h)\n",
    "    \n",
    "     #Calcular la derivada hacia atras de Y.\n",
    "    Y_dot_atras    = \n",
    "    \n",
    "    #Calcular la derivada centrada de Y.\n",
    "    Y_dot_centrada = \n",
    "    \n",
    "    #Calcular la solución exacta.\n",
    "    Y_dot = np.cos(X)\n",
    "    \n",
    "    #Graficar la solución.\n",
    "    fig = plt.figure()\n",
    "    ax  = fig.add_subplot(111)\n",
    "\n",
    "    ani = animation.FuncAnimation(fig,actualizar,fargs=,repeat=False,interval=100)"
   ]
  },
  {
   "cell_type": "markdown",
   "metadata": {},
   "source": [
    "**Ejemplo. La intensidad de corriente de un circuito eléctrico está dada por la expresión $I(t) = 10e^{\\frac{-t}{10}} \\sin{2t} $, donde t es el tiempo. Encuentre la variación de la corriente con respecto del tiempo en el intervalo $\\left[0, 2 \\right]$. Usa avances de $0.1s$. Realizar la animación de las gráficas de las derivadas numéricas**"
   ]
  },
  {
   "cell_type": "code",
   "execution_count": null,
   "metadata": {},
   "outputs": [],
   "source": [
    "import numpy as np\n",
    "import matplotlib.pyplot as plt\n",
    "%matplotlib auto\n",
    "\n",
    "def CalcuarPrimeraDerivadaAdelante(x,f,h=0.005):\n",
    "    pass\n",
    "\n",
    "def CalcuarPrimeraDerivadaAtras(x,f,h=0.005):\n",
    "    pass   \n",
    "\n",
    "def CalcuarPrimeraDerivadaCentrada(x,f,h=0.005):\n",
    "    pass  \n",
    "\n",
    "def CalcuarSegundaDerivadaCentrada(x,f,h=0.005):\n",
    "    pass\n",
    "\n",
    "if __name__ == '__main__':\n",
    "    #Aquí van las entradas:\n",
    "    # Definiendo el tamaño de paso\n",
    "\n",
    "    h = 0.1\n",
    "    # Crear el conjunto de datos del dominio\n",
    "    t = np.arange(0,2,h)\n",
    "    \n",
    "    #Definir la función a derivar\n",
    "    f = lambda t : \n",
    "    \n",
    "    #Calcular las imágenes de f bajo el dominio t.\n",
    "    I = f(t)\n",
    "    \n",
    "    #Calcular la derivada hacia adelante de I.\n",
    "    I_dot_adelante = CalcuarPrimeraDerivadaAdelante(t,f,h)\n",
    "    \n",
    "     #Calcular la derivada hacia atras de I.\n",
    "    I_dot_atras    = \n",
    "    \n",
    "    #Calcular la derivada centrada de I.\n",
    "    I_dot_centrada = \n",
    "    \n",
    "    \n",
    "    #Graficar la solución.\n",
    "    fig = plt.figure()\n",
    "    ax  = fig.add_subplot(111)\n",
    "    ax.plot(t,I,label='I(t)')\n",
    "    ax.plot(t,I_,'r--',label='Derivada hacia adelante')\n",
    "    ax.plot(t,I_,'b--',label='Derivada hacia atras')\n",
    "    ax.plot(t,I_,'m--',label='Derivada centrada')\n",
    "    ax.legend()\n",
    "    ax.grid()\n",
    "    plt.show()"
   ]
  },
  {
   "cell_type": "code",
   "execution_count": null,
   "metadata": {},
   "outputs": [],
   "source": [
    "import numpy as np\n",
    "import matplotlib.pyplot as plt\n",
    "%matplotlib auto\n",
    "\n",
    "def CalcuarPrimeraDerivadaAdelante(x,f,h=0.005):\n",
    "    pass\n",
    "\n",
    "def CalcuarPrimeraDerivadaAtras(x,f,h=0.005):\n",
    "    pass   \n",
    "\n",
    "def CalcuarPrimeraDerivadaCentrada(x,f,h=0.005):\n",
    "    pass  \n",
    "\n",
    "def CalcuarSegundaDerivadaCentrada(x,f,h=0.005):\n",
    "    pass\n",
    "\n",
    "def actualizar(i,t,I_dot_adelante,I_dot_atras,I_dot_centrada):   \n",
    "    ax.clear()\n",
    "    ax.plot(t[0:i],I_dot_adelante[0:i],'r--',label='Derivada hacia adelante')\n",
    "    ax.plot(t,I_,'b--',label='Derivada hacia atras')\n",
    "    ax.plot(t,I_,'m--',label='Derivada centrada')\n",
    "    ax.legend()\n",
    "    ax.grid()\n",
    "\n",
    "if __name__ == '__main__':\n",
    "    #Aquí van las entradas:\n",
    "    # Definiendo el tamaño de paso\n",
    "\n",
    "    h = 0.1\n",
    "    # Crear el conjunto de datos del dominio\n",
    "    t = np.arange(0,2,h)\n",
    "    \n",
    "    #Definir la función a derivar\n",
    "    f = lambda t : \n",
    "    \n",
    "    #Calcular las imágenes de f bajo el dominio t.\n",
    "    I = f(t)\n",
    "    \n",
    "    #Calcular la derivada hacia adelante de I.\n",
    "    I_dot_adelante = CalcuarPrimeraDerivadaAdelante(t,f,h)\n",
    "    \n",
    "     #Calcular la derivada hacia atras de I.\n",
    "    I_dot_atras    = \n",
    "    \n",
    "    #Calcular la derivada centrada de I.\n",
    "    I_dot_centrada = \n",
    "    \n",
    "    \n",
    "    #Graficar la solución.\n",
    "    fig = plt.figure()\n",
    "    ax  = fig.add_subplot(111)\n",
    "\n",
    "    ani = animation.FuncAnimation(fig,actualizar,fargs=(),repeat=False,interval=100)"
   ]
  },
  {
   "cell_type": "markdown",
   "metadata": {},
   "source": [
    "**Ejemplo. La distancia $D = D(t)$ recorrida por un móvil está dada por la expresión $D(t) = -70 + 7t + 70e^{\\frac{-t}{10}}  $, donde t es el tiempo. Encuentre la velocidad y la aceleración en el intervalo $\\left[0, 12 \\right]$. Usa avances de $0.1s$. Realizar la animación de las gráficas de las derivadas numéricas centradas.**"
   ]
  }
 ],
 "metadata": {
  "celltoolbar": "Raw Cell Format",
  "kernelspec": {
   "display_name": "Python 3 (ipykernel)",
   "language": "python",
   "name": "python3"
  },
  "language_info": {
   "codemirror_mode": {
    "name": "ipython",
    "version": 3
   },
   "file_extension": ".py",
   "mimetype": "text/x-python",
   "name": "python",
   "nbconvert_exporter": "python",
   "pygments_lexer": "ipython3",
   "version": "3.9.17"
  }
 },
 "nbformat": 4,
 "nbformat_minor": 4
}
